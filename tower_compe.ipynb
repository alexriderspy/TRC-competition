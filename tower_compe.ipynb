{
 "cells": [
  {
   "cell_type": "code",
   "execution_count": 18,
   "id": "18b5786a",
   "metadata": {},
   "outputs": [
    {
     "name": "stdout",
     "output_type": "stream",
     "text": [
      "            0           1           2           3           4          5  \\\n",
      "0  100.071213  100.149491   99.930634   99.987755  100.029963  99.946339   \n",
      "1  100.038755  100.167643   99.939857  100.077193  100.051333  99.946010   \n",
      "2  100.101553  100.279549  100.008484  100.011744  100.129126  99.942141   \n",
      "3  100.139363  100.325915  100.014660   99.938794  100.165624  99.837089   \n",
      "4  100.165794  100.255047   99.986122   99.955508  100.248478  99.717540   \n",
      "\n",
      "            6           7           8           9  ...          90  \\\n",
      "0   99.978796   99.977380  100.100539   99.925212  ...   99.929276   \n",
      "1  100.037514  100.049019   99.976980   99.905657  ...   99.945678   \n",
      "2  100.117582  100.011918   99.835479  100.033813  ...  100.021618   \n",
      "3  100.114784  100.098861   99.974006   99.984087  ...  100.067053   \n",
      "4   99.924259   99.972593   99.785835  100.023051  ...  100.067643   \n",
      "\n",
      "           91          92          93          94          95          96  \\\n",
      "0   99.956589  100.043535  100.009331   99.971643   99.967958  100.055486   \n",
      "1  100.006483  100.014342  100.149302  100.075814  100.050963  100.051414   \n",
      "2   99.982290  100.014034  100.199551  100.158617  100.091338   99.971000   \n",
      "3   99.986941  100.010459  100.217967  100.178327  100.089753  100.010143   \n",
      "4  100.022269   99.893231  100.197641  100.163919  100.061149   99.994469   \n",
      "\n",
      "           97         98          99  \n",
      "0  100.084689  99.936694  100.059513  \n",
      "1  100.018748  99.957900  100.030354  \n",
      "2  100.089312  99.974230  100.006611  \n",
      "3  100.101545  99.969835  100.022341  \n",
      "4  100.112062  99.972424   99.941994  \n",
      "\n",
      "[5 rows x 100 columns]\n",
      "            0          1           2           3           4           5  \\\n",
      "0  100.013939  99.990424  100.016725  100.055797  100.005678  100.005751   \n",
      "1   99.975796  99.985596  100.022475  100.078519  100.013440  100.011502   \n",
      "2   99.997414  99.981548  100.026134  100.065001  100.022266  100.015162   \n",
      "3  100.008660  99.981617  100.020906  100.066070  100.035164  100.031895   \n",
      "4  100.054803  99.975288  100.015679  100.043006  100.001001  100.026665   \n",
      "\n",
      "            6           7           8           9          10         11  \\\n",
      "0   99.991900   99.990844  100.009374   99.962337  100.012232  99.992100   \n",
      "1  100.047425  100.007369  100.016088   99.987503  100.038767  99.980429   \n",
      "2  100.059273   99.994968  100.027710  100.003425  100.007231  99.990979   \n",
      "3  100.013100   99.988995  100.024536   99.968714  100.021550  99.985776   \n",
      "4   99.952952   99.980704  100.011436   99.982931  100.005479  99.983636   \n",
      "\n",
      "          12          13          14  \n",
      "0  99.996137  100.021004  100.005754  \n",
      "1  99.993460  100.009418  100.022492  \n",
      "2  99.995741  100.036443  100.012029  \n",
      "3  99.991648  100.016424  100.006798  \n",
      "4  99.993578  100.020985  100.017259  \n"
     ]
    }
   ],
   "source": [
    "import numpy as np\n",
    "import pandas as pd\n",
    "\n",
    "stock_prices = pd.read_csv('data_challenge_stock_prices.csv')\n",
    "index_prices = pd.read_csv('data_challenge_index_prices.csv')\n",
    "\n",
    "print(stock_prices.head())\n",
    "print(index_prices.head())"
   ]
  },
  {
   "cell_type": "code",
   "execution_count": 19,
   "id": "db75e54b",
   "metadata": {},
   "outputs": [],
   "source": [
    "stock_prices = stock_prices.to_numpy()"
   ]
  },
  {
   "cell_type": "code",
   "execution_count": 20,
   "id": "a4d8210b",
   "metadata": {},
   "outputs": [],
   "source": [
    "index_prices = index_prices.to_numpy()"
   ]
  },
  {
   "cell_type": "code",
   "execution_count": 21,
   "id": "77c18c33",
   "metadata": {},
   "outputs": [
    {
     "data": {
      "text/plain": [
       "array([[100.07121312, 100.14949078,  99.93063436, ..., 100.08468879,\n",
       "         99.93669433, 100.059513  ],\n",
       "       [100.03875531, 100.167643  ,  99.93985689, ..., 100.01874753,\n",
       "         99.95790018, 100.03035424],\n",
       "       [100.10155284, 100.27954866, 100.00848417, ..., 100.0893117 ,\n",
       "         99.97422962, 100.0066113 ],\n",
       "       ...,\n",
       "       [ 62.12659003,  79.20159903, 135.61874935, ...,  81.56927743,\n",
       "        101.52453556,  87.22248131],\n",
       "       [ 62.09685929,  79.1896065 , 135.66584215, ...,  81.52312594,\n",
       "        101.4890454 ,  87.21426927],\n",
       "       [ 62.11123425,  79.14167268, 135.69780749, ...,  81.5715904 ,\n",
       "        101.55822416,  87.2590396 ]])"
      ]
     },
     "execution_count": 21,
     "metadata": {},
     "output_type": "execute_result"
    }
   ],
   "source": [
    "stock_prices"
   ]
  },
  {
   "cell_type": "code",
   "execution_count": 22,
   "id": "05086a3e",
   "metadata": {},
   "outputs": [
    {
     "data": {
      "text/plain": [
       "array([[100.01393883,  99.99042417, 100.01672466, ...,  99.99613701,\n",
       "        100.02100441, 100.00575353],\n",
       "       [ 99.97579633,  99.98559562, 100.02247472, ...,  99.99345963,\n",
       "        100.00941835, 100.02249204],\n",
       "       [ 99.99741385,  99.98154846, 100.02613406, ...,  99.995741  ,\n",
       "        100.03644266, 100.01202872],\n",
       "       ...,\n",
       "       [ 99.28567522,  99.94661867,  91.6465487 , ...,  99.65779364,\n",
       "         99.6197918 , 126.93348339],\n",
       "       [ 99.27154354,  99.94090856,  91.63122113, ...,  99.64886001,\n",
       "         99.61876064, 126.95472894],\n",
       "       [ 99.21925342,  99.93217233,  91.64654613, ...,  99.64484177,\n",
       "         99.64168785, 126.94808859]])"
      ]
     },
     "execution_count": 22,
     "metadata": {},
     "output_type": "execute_result"
    }
   ],
   "source": [
    "index_prices"
   ]
  },
  {
   "cell_type": "code",
   "execution_count": 23,
   "id": "75414c4e",
   "metadata": {},
   "outputs": [],
   "source": [
    "#M = 15\n",
    "num_rows = len(stock_prices) - 1\n",
    "\n",
    "returns = []\n",
    "\n",
    "for i in range(num_rows):\n",
    "    returns.append((stock_prices[i+1] - stock_prices[i])/stock_prices[i])\n",
    "\n",
    "\n",
    "returns = np.array(returns)/0.0001"
   ]
  },
  {
   "cell_type": "code",
   "execution_count": 24,
   "id": "e3dce713",
   "metadata": {},
   "outputs": [
    {
     "data": {
      "text/plain": [
       "[<matplotlib.lines.Line2D at 0x24d00a63af0>]"
      ]
     },
     "execution_count": 24,
     "metadata": {},
     "output_type": "execute_result"
    },
    {
     "data": {
      "image/png": "[encoded data removed]",
      "text/plain": [
       "<Figure size 640x480 with 1 Axes>"
      ]
     },
     "metadata": {},
     "output_type": "display_data"
    }
   ],
   "source": [
    "import matplotlib.pyplot as plt\n",
    "plt.plot([i for i in range(num_rows)], returns[:,57])"
   ]
  },
  {
   "cell_type": "code",
   "execution_count": 25,
   "id": "9de75423",
   "metadata": {},
   "outputs": [
    {
     "data": {
      "text/plain": [
       "array([-3.24347112,  6.27732001,  3.7771439 , ...,  3.3019608 ,\n",
       "       -4.7855095 ,  2.31492529])"
      ]
     },
     "execution_count": 25,
     "metadata": {},
     "output_type": "execute_result"
    }
   ],
   "source": [
    "returns[:,0]"
   ]
  },
  {
   "cell_type": "code",
   "execution_count": 26,
   "id": "e444c682",
   "metadata": {},
   "outputs": [
    {
     "data": {
      "text/plain": [
       "array([[-3.24347112,  1.81251236,  0.92289284, ..., -6.58854684,\n",
       "         2.12192803, -2.91414201],\n",
       "       [ 6.27732001, 11.1718375 ,  6.86685787, ...,  7.05509424,\n",
       "         1.63363237, -2.37357322],\n",
       "       [ 3.7771439 ,  4.6236675 ,  0.61750821, ...,  1.22221752,\n",
       "        -0.43961057,  1.57285341],\n",
       "       ...,\n",
       "       [ 3.3019608 ,  3.7384735 , -9.16195731, ..., -4.54751759,\n",
       "        -3.32334889, -3.57921685],\n",
       "       [-4.7855095 , -1.51417716,  3.47243971, ..., -5.6579503 ,\n",
       "        -3.49572316, -0.94150478],\n",
       "       [ 2.31492529, -6.05304416,  2.35618226, ...,  5.94487269,\n",
       "         6.81637725,  5.1333713 ]])"
      ]
     },
     "execution_count": 26,
     "metadata": {},
     "output_type": "execute_result"
    }
   ],
   "source": [
    "returns"
   ]
  },
  {
   "cell_type": "code",
   "execution_count": 27,
   "id": "01186cdf",
   "metadata": {},
   "outputs": [
    {
     "data": {
      "text/plain": [
       "array([[-3.24347112,  6.27732001,  3.7771439 , ...,  3.3019608 ,\n",
       "        -4.7855095 ,  2.31492529],\n",
       "       [ 1.81251236, 11.1718375 ,  4.6236675 , ...,  3.7384735 ,\n",
       "        -1.51417716, -6.05304416],\n",
       "       [ 0.92289284,  6.86685787,  0.61750821, ..., -9.16195731,\n",
       "         3.47243971,  2.35618226],\n",
       "       ...,\n",
       "       [-6.58854684,  7.05509424,  1.22221752, ..., -4.54751759,\n",
       "        -5.6579503 ,  5.94487269],\n",
       "       [ 2.12192803,  1.63363237, -0.43961057, ..., -3.32334889,\n",
       "        -3.49572316,  6.81637725],\n",
       "       [-2.91414201, -2.37357322,  1.57285341, ..., -3.57921685,\n",
       "        -0.94150478,  5.1333713 ]])"
      ]
     },
     "execution_count": 27,
     "metadata": {},
     "output_type": "execute_result"
    }
   ],
   "source": [
    "X = np.transpose(returns)\n",
    "X"
   ]
  },
  {
   "cell_type": "code",
   "execution_count": 28,
   "id": "dd7bcadb",
   "metadata": {},
   "outputs": [],
   "source": [
    "from sklearn.cluster import KMeans\n",
    "\n",
    "kmeans = KMeans(n_clusters=15, random_state=0, n_init=\"auto\").fit(X)"
   ]
  },
  {
   "cell_type": "code",
   "execution_count": 42,
   "id": "e44edf69",
   "metadata": {},
   "outputs": [
    {
     "data": {
      "text/plain": [
       "array([14, 14,  1,  1, 14,  2,  1,  1, 11,  1, 14,  9, 14,  5,  8,  5, 12,\n",
       "        1, 14,  1, 14, 14, 14,  1,  5, 14, 14, 13,  1, 14, 14,  5,  1,  1,\n",
       "        5,  5, 14,  5,  6, 14, 14, 14,  1, 14,  0,  7, 14,  1,  5, 14, 14,\n",
       "        1, 14,  1, 14, 14,  5, 14,  1, 14,  1,  5,  5,  1,  5,  5,  1, 14,\n",
       "        5, 14,  5, 14,  1, 14, 14,  3,  5,  4, 14, 14, 14,  1, 14,  5, 10,\n",
       "        5,  5,  1, 14,  5, 14,  1, 14,  5,  5,  5, 14,  5,  1, 14])"
      ]
     },
     "execution_count": 42,
     "metadata": {},
     "output_type": "execute_result"
    }
   ],
   "source": [
    "labels = kmeans.labels_\n",
    "labels"
   ]
  },
  {
   "cell_type": "code",
   "execution_count": 32,
   "id": "2fe76b56",
   "metadata": {},
   "outputs": [
    {
     "data": {
      "text/plain": [
       "(100, 199999)"
      ]
     },
     "execution_count": 32,
     "metadata": {},
     "output_type": "execute_result"
    }
   ],
   "source": [
    "X.shape"
   ]
  },
  {
   "cell_type": "code",
   "execution_count": 37,
   "id": "df93dd1a",
   "metadata": {},
   "outputs": [],
   "source": [
    "tables = []\n",
    "\n",
    "for i in range(15): \n",
    "    tmp = []\n",
    "    for j in range(len(labels)):\n",
    "        if labels[j] == i:\n",
    "            tmp.append(X[j])\n",
    "\n",
    "    tables.append(np.transpose(np.array(tmp)))\n",
    "            "
   ]
  },
  {
   "cell_type": "code",
   "execution_count": 39,
   "id": "b7dcf408",
   "metadata": {
    "scrolled": true
   },
   "outputs": [
    {
     "data": {
      "text/plain": [
       "array([[-2.90009991],\n",
       "       [-8.90031434],\n",
       "       [ 2.75412629],\n",
       "       ...,\n",
       "       [-4.41725368],\n",
       "       [-5.43057518],\n",
       "       [-9.74046417]])"
      ]
     },
     "execution_count": 39,
     "metadata": {},
     "output_type": "execute_result"
    }
   ],
   "source": [
    "tables[0]"
   ]
  },
  {
   "cell_type": "code",
   "execution_count": 40,
   "id": "0c53fe4f",
   "metadata": {},
   "outputs": [
    {
     "data": {
      "text/plain": [
       "array([[-3.24347112,  1.81251236,  2.13639047, ..., -2.91802255,\n",
       "        -0.40702246, -2.91414201],\n",
       "       [ 6.27732001, 11.1718375 ,  7.77530628, ..., -0.03081738,\n",
       "        -8.03721046, -2.37357322],\n",
       "       [ 3.7771439 ,  4.6236675 ,  3.64509752, ..., -0.35738225,\n",
       "         3.91535294,  1.57285341],\n",
       "       ...,\n",
       "       [ 3.3019608 ,  3.7384735 ,  2.97410482, ...,  0.84159281,\n",
       "         3.71391206, -3.57921685],\n",
       "       [-4.7855095 , -1.51417716, -0.63091062, ..., -1.25835837,\n",
       "        -3.92240267, -0.94150478],\n",
       "       [ 2.31492529, -6.05304416, -8.86198336, ..., -7.80458575,\n",
       "        -1.60169185,  5.1333713 ]])"
      ]
     },
     "execution_count": 40,
     "metadata": {},
     "output_type": "execute_result"
    }
   ],
   "source": [
    "tables[14]"
   ]
  }
 ],
 "metadata": {
  "kernelspec": {
   "display_name": "Python 3 (ipykernel)",
   "language": "python",
   "name": "python3"
  },
  "language_info": {
   "codemirror_mode": {
    "name": "ipython",
    "version": 3
   },
   "file_extension": ".py",
   "mimetype": "text/x-python",
   "name": "python",
   "nbconvert_exporter": "python",
   "pygments_lexer": "ipython3",
   "version": "3.10.8"
  }
 },
 "nbformat": 4,
 "nbformat_minor": 5
}
