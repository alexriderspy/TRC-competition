{
 "cells": [
  {
   "cell_type": "code",
   "execution_count": 1,
   "metadata": {},
   "outputs": [],
   "source": [
    "import pandas as pd \n",
    "import numpy as np \n",
    "\n",
    "stock_prices = pd.read_csv('data_challenge_stock_prices.csv')\n",
    "index_prices = pd.read_csv('data_challenge_index_prices.csv')\n",
    "\n",
    "\n"
   ]
  },
  {
   "cell_type": "code",
   "execution_count": 2,
   "metadata": {},
   "outputs": [],
   "source": [
    "stock_prices = stock_prices.to_numpy()\n",
    "index_prices = index_prices.to_numpy()"
   ]
  },
  {
   "cell_type": "code",
   "execution_count": 3,
   "metadata": {},
   "outputs": [],
   "source": [
    "num_rows = len(stock_prices) - 1\n",
    "\n",
    "returns = []\n",
    "\n",
    "for i in range(num_rows):\n",
    "    returns.append((stock_prices[i+1] - stock_prices[i])/stock_prices[i])\n",
    "\n",
    "\n",
    "returns = np.array(returns)/0.0001"
   ]
  },
  {
   "cell_type": "code",
   "execution_count": 4,
   "metadata": {},
   "outputs": [
    {
     "name": "stdout",
     "output_type": "stream",
     "text": [
      "(100, 199999)\n"
     ]
    }
   ],
   "source": [
    "X = np.transpose(returns)\n",
    "print(X.shape)\n"
   ]
  },
  {
   "cell_type": "code",
   "execution_count": 5,
   "metadata": {},
   "outputs": [],
   "source": [
    "from sklearn.cluster import KMeans\n",
    "\n",
    "kmeans = KMeans(n_clusters=15, random_state=0, n_init=\"auto\").fit(X)"
   ]
  },
  {
   "cell_type": "code",
   "execution_count": 6,
   "metadata": {},
   "outputs": [
    {
     "data": {
      "text/plain": [
       "array([14, 14,  1,  1, 14,  2,  1,  1, 11,  1, 14,  9, 14,  5,  8,  5, 12,\n",
       "        1, 14,  1, 14, 14, 14,  1,  5, 14, 14, 13,  1, 14, 14,  5,  1,  1,\n",
       "        5,  5, 14,  5,  6, 14, 14, 14,  1, 14,  0,  7, 14,  1,  5, 14, 14,\n",
       "        1, 14,  1, 14, 14,  5, 14,  1, 14,  1,  5,  5,  1,  5,  5,  1, 14,\n",
       "        5, 14,  5, 14,  1, 14, 14,  3,  5,  4, 14, 14, 14,  1, 14,  5, 10,\n",
       "        5,  5,  1, 14,  5, 14,  1, 14,  5,  5,  5, 14,  5,  1, 14],\n",
       "      dtype=int32)"
      ]
     },
     "execution_count": 6,
     "metadata": {},
     "output_type": "execute_result"
    }
   ],
   "source": [
    "kmeans.labels_"
   ]
  }
 ],
 "metadata": {
  "kernelspec": {
   "display_name": "Python 3",
   "language": "python",
   "name": "python3"
  },
  "language_info": {
   "codemirror_mode": {
    "name": "ipython",
    "version": 3
   },
   "file_extension": ".py",
   "mimetype": "text/x-python",
   "name": "python",
   "nbconvert_exporter": "python",
   "pygments_lexer": "ipython3",
   "version": "3.10.6"
  },
  "orig_nbformat": 4
 },
 "nbformat": 4,
 "nbformat_minor": 2
}
